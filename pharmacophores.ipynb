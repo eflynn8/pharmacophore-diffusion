{
 "cells": [
  {
   "cell_type": "code",
   "execution_count": 2,
   "id": "6b82eaf7",
   "metadata": {},
   "outputs": [
    {
     "ename": "ModuleNotFoundError",
     "evalue": "No module named 'Bio'",
     "output_type": "error",
     "traceback": [
      "\u001b[0;31m---------------------------------------------------------------------------\u001b[0m",
      "\u001b[0;31mModuleNotFoundError\u001b[0m                       Traceback (most recent call last)",
      "Cell \u001b[0;32mIn[2], line 8\u001b[0m\n\u001b[1;32m      6\u001b[0m \u001b[38;5;28;01mimport\u001b[39;00m \u001b[38;5;21;01mpickle\u001b[39;00m\n\u001b[1;32m      7\u001b[0m \u001b[38;5;28;01mfrom\u001b[39;00m \u001b[38;5;21;01mtqdm\u001b[39;00m \u001b[38;5;28;01mimport\u001b[39;00m tqdm\n\u001b[0;32m----> 8\u001b[0m \u001b[38;5;28;01mfrom\u001b[39;00m \u001b[38;5;21;01mBio\u001b[39;00m\u001b[38;5;21;01m.\u001b[39;00m\u001b[38;5;21;01mPDB\u001b[39;00m \u001b[38;5;28;01mimport\u001b[39;00m PDBParser\n\u001b[1;32m      9\u001b[0m \u001b[38;5;28;01mfrom\u001b[39;00m \u001b[38;5;21;01mBio\u001b[39;00m\u001b[38;5;21;01m.\u001b[39;00m\u001b[38;5;21;01mPDB\u001b[39;00m\u001b[38;5;21;01m.\u001b[39;00m\u001b[38;5;21;01mPolypeptide\u001b[39;00m \u001b[38;5;28;01mimport\u001b[39;00m protein_letters_3to1, is_aa\n\u001b[1;32m     10\u001b[0m \u001b[38;5;28;01mfrom\u001b[39;00m \u001b[38;5;21;01mBio\u001b[39;00m\u001b[38;5;21;01m.\u001b[39;00m\u001b[38;5;21;01mPDB\u001b[39;00m \u001b[38;5;28;01mimport\u001b[39;00m PDBIO\n",
      "\u001b[0;31mModuleNotFoundError\u001b[0m: No module named 'Bio'"
     ]
    }
   ],
   "source": [
    "import re, subprocess, os, gzip, json, glob, multiprocessing\n",
    "import numpy as np\n",
    "import matplotlib.pyplot as plt\n",
    "from rdkit.Chem import AllChem as Chem\n",
    "import tempfile\n",
    "import pickle\n",
    "from tqdm import tqdm\n",
    "from Bio.PDB import PDBParser\n",
    "from Bio.PDB.Polypeptide import protein_letters_3to1, is_aa\n",
    "from Bio.PDB import PDBIO\n",
    "from scipy.spatial.distance import cdist\n",
    "import Bio\n",
    "import Bio.SeqUtils"
   ]
  },
  {
   "cell_type": "code",
   "execution_count": 2,
   "id": "e15a30ab",
   "metadata": {},
   "outputs": [],
   "source": [
    "phmap = {\n",
    "    'Aromatic': 0,\n",
    "    'HydrogenDonor': 1,\n",
    "    'HydrogenAcceptor': 2,\n",
    "    'PositiveIon': 3,\n",
    "    'NegativeIon': 4,\n",
    "    'Hydrophobic': 5\n",
    "}\n",
    "\n",
    "\n",
    "index2ph = [    'Aromatic',\n",
    "    'HydrogenDonor',\n",
    "    'HydrogenAcceptor',\n",
    "    'PositiveIon',\n",
    "    'NegativeIon',\n",
    "    'Hydrophobic']"
   ]
  },
  {
   "cell_type": "code",
   "execution_count": 12,
   "id": "c59ae24f",
   "metadata": {},
   "outputs": [],
   "source": [
    "\n",
    "def element_fixer(element: str):\n",
    "\n",
    "    if len(element) > 1:\n",
    "        element = element[0] + element[1:].lower()\n",
    "    \n",
    "    return element\n",
    "\n",
    "\n",
    "def getfeatures(reclig):\n",
    "    pocket_cutoff = 8\n",
    "    \n",
    "    rec,glig = reclig\n",
    "    rec = rec.replace('_0.gninatypes','.pdb')            \n",
    "    m = re.search(r'(\\S+)_(\\d+)\\.gninatypes',glig)\n",
    "    prefix = m.group(1)\n",
    "    num = int(m.group(2))\n",
    "    lig = prefix+'.sdf.gz'\n",
    "    \n",
    "    if not os.path.exists(rec):\n",
    "        print(rec)\n",
    "    if not os.path.exists(lig):\n",
    "        print(lig)\n",
    "        \n",
    "    with tempfile.TemporaryDirectory() as tmp:\n",
    "        try:\n",
    "            if num != 0:\n",
    "                #extract num conformer\n",
    "                #avoid chemical parsing for speed reasons\n",
    "                sdf = gzip.open(lig).read().split(b'$$$$\\n')[num]+b'$$$$\\n'\n",
    "                lig = os.path.join(tmp,'lig.sdf')\n",
    "                with open(lig, 'wb') as out:\n",
    "                    out.write(sdf)\n",
    "\n",
    "            phfile = os.path.join(tmp,\"ph.json\")\n",
    "            cmd = f'pharmit pharma -receptor {rec} -in {lig} -out {phfile}'\n",
    "            subprocess.check_call(cmd,shell=True)\n",
    "            \n",
    "            #some files have another json object in them - only take first\n",
    "            #in actuality, it is a bug with how pharmit/openbabel is dealing\n",
    "            #with gzipped sdf files that causes only one molecule to be read\n",
    "            decoder = json.JSONDecoder()\n",
    "            ph = decoder.raw_decode(open(phfile).read())[0]\n",
    "\n",
    "            if ph['points']:\n",
    "                feature_coords = np.array([(p['x'],p['y'],p['z']) for p in ph['points'] if p['enabled']])\n",
    "                feature_kind = np.array([phmap[p['name']] for p in ph['points'] if p['enabled']])\n",
    "            else:\n",
    "                feature_coords = []\n",
    "                feature_kind = []\n",
    "                \n",
    "            #extract pocket using Ian's approach\n",
    "            pdb_struct = PDBParser(QUIET=True).get_structure('', rec)\n",
    "            if lig.endswith('.gz'):\n",
    "                with gzip.open(lig) as f:\n",
    "                    supp = Chem.ForwardSDMolSupplier(f,sanitize=False)\n",
    "                    ligand = next(supp)\n",
    "                    del supp\n",
    "                \n",
    "            else:\n",
    "                supp = Chem.ForwardSDMolSupplier(lig,sanitize=False)\n",
    "                ligand = next(supp)\n",
    "                del supp\n",
    "\n",
    "            lig_coords = ligand.GetConformer().GetPositions()\n",
    "             # get residues which constitute the binding pocket\n",
    "            pocket_residues = []\n",
    "            for residue in pdb_struct[0].get_residues():\n",
    "                # get atomic coordinates of residue\n",
    "                res_coords = np.array([a.get_coord() for a in residue.get_atoms()])\n",
    "\n",
    "                # skip nonstandard residues\n",
    "                is_residue = is_aa(residue.get_resname(), standard=True)\n",
    "                if not is_residue:\n",
    "                    continue\n",
    "                min_rl_dist = cdist(lig_coords, res_coords).min()\n",
    "                if min_rl_dist < pocket_cutoff:\n",
    "                    pocket_residues.append(residue)\n",
    "\n",
    "            atom_filter = lambda a: a.element != \"H\"\n",
    "            pocket_atomres = []\n",
    "            for res in pocket_residues:\n",
    "                atom_list = res.get_atoms()\n",
    "                pocket_atomres.extend([(a, res) for a in atom_list if atom_filter(a) ])\n",
    "\n",
    "            pocket_atoms, atom_residues = list(map(list, zip(*pocket_atomres)))\n",
    "\n",
    "            pocket_coords = np.array([ar[0].get_coord() for ar in pocket_atomres])\n",
    "            pocket_elements = np.array([ element_fixer(ar[0].element) for ar in pocket_atomres ])\n",
    "            pocket_anames = np.array([ar[0].name for ar in pocket_atomres])\n",
    "            pocket_res = np.array([Bio.PDB.Polypeptide.three_to_index(ar[1].resname) for ar in pocket_atomres])\n",
    "            pocket_rid = np.array([ar[1].id[1] for ar in pocket_atomres])\n",
    "            #receptor and features are needed for training\n",
    "            #glig is included for reference back to original data for debugging\n",
    "            return ((rec,glig,ligand,(feature_coords, feature_kind),(pocket_coords, pocket_elements, pocket_anames, pocket_res, pocket_rid)))    \n",
    "        except Exception as e:\n",
    "            print(e)\n",
    "            print(rec,glig)\n",
    "            return((rec,glig,None,None,None))"
   ]
  },
  {
   "cell_type": "code",
   "execution_count": null,
   "id": "af6f98b3",
   "metadata": {},
   "outputs": [],
   "source": []
  },
  {
   "cell_type": "code",
   "execution_count": 6,
   "id": "5f04e338",
   "metadata": {},
   "outputs": [
    {
     "name": "stdout",
     "output_type": "stream",
     "text": [
      "Help on class ForwardSDMolSupplier in module rdkit.Chem.rdmolfiles:\n",
      "\n",
      "class ForwardSDMolSupplier(Boost.Python.instance)\n",
      " |  A class which supplies molecules from file-like object containing SD data.\n",
      " |  \n",
      " |  Usage examples:\n",
      " |  \n",
      " |    1) Lazy evaluation: the molecules are not constructed until we ask for them:\n",
      " |  \n",
      " |       >>> suppl = ForwardSDMolSupplier(file('in.sdf'))\n",
      " |       >>> for mol in suppl:\n",
      " |       ...    if mol is not None: mol.GetNumAtoms()\n",
      " |  \n",
      " |    2) we can also read from compressed files: \n",
      " |  \n",
      " |       >>> import gzip\n",
      " |       >>> suppl = ForwardSDMolSupplier(gzip.open('in.sdf.gz'))\n",
      " |       >>> for mol in suppl:\n",
      " |       ...   if mol is not None: print mol.GetNumAtoms()\n",
      " |  \n",
      " |  Properties in the SD file are used to set properties on each molecule.\n",
      " |  The properties are accessible using the mol.GetProp(propName) method.\n",
      " |  \n",
      " |  Method resolution order:\n",
      " |      ForwardSDMolSupplier\n",
      " |      Boost.Python.instance\n",
      " |      builtins.object\n",
      " |  \n",
      " |  Static methods defined here:\n",
      " |  \n",
      " |  GetEOFHitOnRead(...)\n",
      " |      GetEOFHitOnRead( (ForwardSDMolSupplier)arg1) -> bool :\n",
      " |          Returns whether or EOF was hit while parsing the previous entry.\n",
      " |          \n",
      " |      \n",
      " |          C++ signature :\n",
      " |              bool GetEOFHitOnRead((anonymous namespace)::LocalForwardSDMolSupplier {lvalue})\n",
      " |  \n",
      " |  GetProcessPropertyLists(...)\n",
      " |      GetProcessPropertyLists( (ForwardSDMolSupplier)arg1) -> bool :\n",
      " |          returns whether or not any property lists that are present will be processed when reading molecules\n",
      " |      \n",
      " |          C++ signature :\n",
      " |              bool GetProcessPropertyLists((anonymous namespace)::LocalForwardSDMolSupplier {lvalue})\n",
      " |  \n",
      " |  SetProcessPropertyLists(...)\n",
      " |      SetProcessPropertyLists( (ForwardSDMolSupplier)arg1, (bool)arg2) -> None :\n",
      " |          sets whether or not any property lists that are present will be processed when reading molecules\n",
      " |      \n",
      " |          C++ signature :\n",
      " |              void SetProcessPropertyLists((anonymous namespace)::LocalForwardSDMolSupplier {lvalue},bool)\n",
      " |  \n",
      " |  __enter__(...)\n",
      " |      __enter__( (ForwardSDMolSupplier)arg1) -> ForwardSDMolSupplier :\n",
      " |      \n",
      " |          C++ signature :\n",
      " |              (anonymous namespace)::LocalForwardSDMolSupplier* __enter__((anonymous namespace)::LocalForwardSDMolSupplier*)\n",
      " |  \n",
      " |  __exit__(...)\n",
      " |      __exit__( (ForwardSDMolSupplier)arg1, (AtomPairsParameters)arg2, (AtomPairsParameters)arg3, (AtomPairsParameters)arg4) -> bool :\n",
      " |      \n",
      " |          C++ signature :\n",
      " |              bool __exit__((anonymous namespace)::LocalForwardSDMolSupplier*,boost::python::api::object,boost::python::api::object,boost::python::api::object)\n",
      " |  \n",
      " |  __init__(...)\n",
      " |      __init__( (object)arg1, (AtomPairsParameters)fileobj [, (bool)sanitize=True [, (bool)removeHs=True [, (bool)strictParsing=True]]]) -> None :\n",
      " |      \n",
      " |          C++ signature :\n",
      " |              void __init__(_object*,boost::python::api::object {lvalue} [,bool=True [,bool=True [,bool=True]]])\n",
      " |      \n",
      " |      __init__( (object)arg1, (streambuf)streambuf [, (bool)sanitize=True [, (bool)removeHs=True [, (bool)strictParsing=True]]]) -> None :\n",
      " |      \n",
      " |          C++ signature :\n",
      " |              void __init__(_object*,boost_adaptbx::python::streambuf {lvalue} [,bool=True [,bool=True [,bool=True]]])\n",
      " |      \n",
      " |      __init__( (object)arg1, (str)filename [, (bool)sanitize=True [, (bool)removeHs=True [, (bool)strictParsing=True]]]) -> None :\n",
      " |      \n",
      " |          C++ signature :\n",
      " |              void __init__(_object*,std::__cxx11::basic_string<char, std::char_traits<char>, std::allocator<char> > [,bool=True [,bool=True [,bool=True]]])\n",
      " |  \n",
      " |  __iter__(...)\n",
      " |      __iter__( (ForwardSDMolSupplier)arg1) -> ForwardSDMolSupplier :\n",
      " |      \n",
      " |          C++ signature :\n",
      " |              (anonymous namespace)::LocalForwardSDMolSupplier* __iter__((anonymous namespace)::LocalForwardSDMolSupplier*)\n",
      " |  \n",
      " |  __next__(...)\n",
      " |      __next__( (ForwardSDMolSupplier)arg1) -> Mol :\n",
      " |          Returns the next molecule in the file.  Raises _StopIteration_ on EOF.\n",
      " |          \n",
      " |      \n",
      " |          C++ signature :\n",
      " |              RDKit::ROMol* __next__((anonymous namespace)::LocalForwardSDMolSupplier*)\n",
      " |  \n",
      " |  __reduce__ = <unnamed Boost.Python function>(...)\n",
      " |  \n",
      " |  atEnd(...)\n",
      " |      atEnd( (ForwardSDMolSupplier)arg1) -> bool :\n",
      " |          Returns whether or not we have hit EOF.\n",
      " |          \n",
      " |      \n",
      " |          C++ signature :\n",
      " |              bool atEnd((anonymous namespace)::LocalForwardSDMolSupplier {lvalue})\n",
      " |  \n",
      " |  ----------------------------------------------------------------------\n",
      " |  Static methods inherited from Boost.Python.instance:\n",
      " |  \n",
      " |  __new__(*args, **kwargs) from Boost.Python.class\n",
      " |      Create and return a new object.  See help(type) for accurate signature.\n",
      " |  \n",
      " |  ----------------------------------------------------------------------\n",
      " |  Data descriptors inherited from Boost.Python.instance:\n",
      " |  \n",
      " |  __dict__\n",
      " |  \n",
      " |  __weakref__\n",
      "\n"
     ]
    }
   ],
   "source": [
    "help(Chem.ForwardSDMolSupplier)"
   ]
  },
  {
   "cell_type": "code",
   "execution_count": 4,
   "id": "e805e4d8",
   "metadata": {},
   "outputs": [],
   "source": [
    "allinputs = []\n",
    "for fname in glob.glob('types/it2_tt_v1.3_0_test*types'):\n",
    "    #pull out good rmsd lines only\n",
    "    f = open(fname)\n",
    "    inputs = []\n",
    "    for line in f:\n",
    "        label,affinity,rmsd,rec,glig,_ = line.split()    \n",
    "        if label == '1':\n",
    "            inputs.append((rec,glig))\n",
    "    allinputs.append((fname,inputs))"
   ]
  },
  {
   "cell_type": "code",
   "execution_count": 5,
   "id": "5690acee",
   "metadata": {},
   "outputs": [
    {
     "name": "stderr",
     "output_type": "stream",
     "text": [
      "100%|██████████| 284728/284728 [01:33<00:00, 3032.50it/s]\n",
      "100%|██████████| 272195/272195 [01:24<00:00, 3237.18it/s] \n",
      "100%|██████████| 268654/268654 [01:13<00:00, 3637.21it/s] \n"
     ]
    }
   ],
   "source": [
    "#collect and parse all receptors\n",
    "receptors = dict()\n",
    "for fname, inputs in allinputs:\n",
    "    for rec,lig in tqdm(inputs):\n",
    "        rec = rec.replace('_0.gninatypes','.pdb')            \n",
    "\n",
    "        if rec not in receptors:\n",
    "            receptors[rec] = Chem.MolFromPDBBlock(open(rec).read(),sanitize=False)\n",
    "            "
   ]
  },
  {
   "cell_type": "code",
   "execution_count": 6,
   "id": "261e614d",
   "metadata": {},
   "outputs": [],
   "source": [
    "with gzip.open('types/receptors.pkl.gz','wb') as recout:\n",
    "    pickle.dump(receptors,recout)"
   ]
  },
  {
   "cell_type": "code",
   "execution_count": 20,
   "id": "f25137af",
   "metadata": {
    "scrolled": true
   },
   "outputs": [
    {
     "name": "stdout",
     "output_type": "stream",
     "text": [
      "not enough values to unpack (expected 2, got 0)\n",
      "METF_ECOLI_3_296_0/3fsu_A_rec.pdb METF_ECOLI_3_296_0/3fsu_A_rec_3fsu_c2f_lig_tt_docked_18.gninatypes\n",
      "not enough values to unpack (expected 2, got 0)\n",
      "METF_ECOLI_3_296_0/3fsu_A_rec.pdb METF_ECOLI_3_296_0/3fsu_A_rec_3fsu_mry_lig_tt_min_0.gninatypes\n",
      "not enough values to unpack (expected 2, got 0)\n",
      "METF_ECOLI_3_296_0/2fmn_B_rec.pdb METF_ECOLI_3_296_0/2fmn_B_rec_3fsu_mry_lig_tt_min_0.gninatypes\n",
      "not enough values to unpack (expected 2, got 0)\n",
      "METF_ECOLI_3_296_0/3fsu_A_rec.pdb METF_ECOLI_3_296_0/3fsu_A_rec_2fmn_4hf_lig_tt_min_0.gninatypes\n",
      "not enough values to unpack (expected 2, got 0)\n",
      "METF_ECOLI_3_296_0/2fmn_B_rec.pdb METF_ECOLI_3_296_0/2fmn_B_rec_2fmn_4hf_lig_tt_min_0.gninatypes\n",
      "not enough values to unpack (expected 2, got 0)\n",
      "DPOL_BPR69_1_903_0/1q9x_A_rec.pdb DPOL_BPR69_1_903_0/1q9x_A_rec_1q9x_dgp_lig_tt_min_0.gninatypes\n",
      "not enough values to unpack (expected 2, got 0)\n",
      "DPOL_BPR69_1_903_0/2p5g_A_rec.pdb DPOL_BPR69_1_903_0/2p5g_A_rec_1q9x_dgp_lig_tt_min_0.gninatypes\n",
      "not enough values to unpack (expected 2, got 0)\n",
      "MEND_MYCTU_2_554_0/5esu_D_rec.pdb MEND_MYCTU_2_554_0/5esu_D_rec_5ess_tog_lig_tt_docked_0.gninatypes\n",
      "not enough values to unpack (expected 2, got 0)\n",
      "MEND_MYCTU_2_554_0/5esu_D_rec.pdb MEND_MYCTU_2_554_0/5esu_D_rec_5ess_tog_lig_tt_docked_2.gninatypes\n",
      "not enough values to unpack (expected 2, got 0)\n",
      "MEND_MYCTU_2_554_0/5esu_D_rec.pdb MEND_MYCTU_2_554_0/5esu_D_rec_5ess_tog_lig_tt_min_0.gninatypes\n",
      "not enough values to unpack (expected 2, got 0)\n",
      "MEND_MYCTU_2_554_0/5eso_A_rec.pdb MEND_MYCTU_2_554_0/5eso_A_rec_5ess_tog_lig_tt_docked_0.gninatypes\n",
      "not enough values to unpack (expected 2, got 0)\n",
      "MEND_MYCTU_2_554_0/5eso_A_rec.pdb MEND_MYCTU_2_554_0/5eso_A_rec_5ess_tog_lig_tt_docked_9.gninatypes\n",
      "not enough values to unpack (expected 2, got 0)\n",
      "MEND_MYCTU_2_554_0/5eso_A_rec.pdb MEND_MYCTU_2_554_0/5eso_A_rec_5ess_tog_lig_tt_min_0.gninatypes\n",
      "not enough values to unpack (expected 2, got 0)\n",
      "MEND_MYCTU_2_554_0/5ess_A_rec.pdb MEND_MYCTU_2_554_0/5ess_A_rec_5ess_tog_lig_tt_docked_0.gninatypes\n",
      "not enough values to unpack (expected 2, got 0)\n",
      "MEND_MYCTU_2_554_0/5ess_A_rec.pdb MEND_MYCTU_2_554_0/5ess_A_rec_5ess_tog_lig_tt_docked_2.gninatypes\n",
      "not enough values to unpack (expected 2, got 0)\n",
      "MEND_MYCTU_2_554_0/5ess_A_rec.pdb MEND_MYCTU_2_554_0/5ess_A_rec_5ess_tog_lig_tt_min_0.gninatypes\n",
      "not enough values to unpack (expected 2, got 0)\n",
      "MEND_MYCTU_2_554_0/5esd_B_rec.pdb MEND_MYCTU_2_554_0/5esd_B_rec_5ess_tog_lig_tt_docked_0.gninatypes\n",
      "not enough values to unpack (expected 2, got 0)\n",
      "MEND_MYCTU_2_554_0/5esd_B_rec.pdb MEND_MYCTU_2_554_0/5esd_B_rec_5ess_tog_lig_tt_docked_1.gninatypes\n",
      "not enough values to unpack (expected 2, got 0)\n",
      "MEND_MYCTU_2_554_0/5esd_B_rec.pdb MEND_MYCTU_2_554_0/5esd_B_rec_5ess_tog_lig_tt_docked_3.gninatypes\n",
      "not enough values to unpack (expected 2, got 0)\n",
      "MEND_MYCTU_2_554_0/5esd_B_rec.pdb MEND_MYCTU_2_554_0/5esd_B_rec_5ess_tog_lig_tt_min_0.gninatypes\n",
      "not enough values to unpack (expected 2, got 0)\n",
      "MEND_MYCTU_2_554_0/5erx_A_rec.pdb MEND_MYCTU_2_554_0/5erx_A_rec_5ess_tog_lig_tt_docked_2.gninatypes\n",
      "not enough values to unpack (expected 2, got 0)\n",
      "MEND_MYCTU_2_554_0/5erx_A_rec.pdb MEND_MYCTU_2_554_0/5erx_A_rec_5ess_tog_lig_it1_it2_tt_docked_2.gninatypes\n",
      "not enough values to unpack (expected 2, got 0)\n",
      "MEND_MYCTU_2_554_0/5esu_D_rec.pdb \n",
      "MEND_MYCTU_2_554_0/5esu_D_rec_5esu_toi_lig_tt_docked_0.gninatypesnot enough values to unpack (expected 2, got 0)\n",
      "MEND_MYCTU_2_554_0/5esu_D_rec.pdb MEND_MYCTU_2_554_0/5esu_D_rec_5esu_toi_lig_tt_min_0.gninatypes\n",
      "not enough values to unpack (expected 2, got 0)\n",
      "MEND_MYCTU_2_554_0/5eso_A_rec.pdb MEND_MYCTU_2_554_0/5eso_A_rec_5esu_toi_lig_tt_docked_0.gninatypes\n",
      "not enough values to unpack (expected 2, got 0)\n",
      "MEND_MYCTU_2_554_0/5eso_A_rec.pdb MEND_MYCTU_2_554_0/5eso_A_rec_5esu_toi_lig_tt_min_0.gninatypes\n",
      "not enough values to unpack (expected 2, got 0)\n",
      "MEND_MYCTU_2_554_0/5ess_A_rec.pdb MEND_MYCTU_2_554_0/5ess_A_rec_5esu_toi_lig_tt_docked_0.gninatypes\n",
      "not enough values to unpack (expected 2, got 0)\n",
      "MEND_MYCTU_2_554_0/5ess_A_rec.pdb MEND_MYCTU_2_554_0/5ess_A_rec_5esu_toi_lig_tt_docked_1.gninatypes\n",
      "not enough values to unpack (expected 2, got 0)\n",
      "MEND_MYCTU_2_554_0/5ess_A_rec.pdb MEND_MYCTU_2_554_0/5ess_A_rec_5esu_toi_lig_tt_min_0.gninatypes\n",
      "not enough values to unpack (expected 2, got 0)\n",
      "MEND_MYCTU_2_554_0/5esd_B_rec.pdb MEND_MYCTU_2_554_0/5esd_B_rec_5esu_toi_lig_tt_docked_0.gninatypes\n",
      "not enough values to unpack (expected 2, got 0)\n",
      "MEND_MYCTU_2_554_0/5esd_B_rec.pdb MEND_MYCTU_2_554_0/5esd_B_rec_5esu_toi_lig_tt_min_0.gninatypes\n",
      "CPU times: user 11min 37s, sys: 49 s, total: 12min 26s\n",
      "Wall time: 4h 29min 43s\n"
     ]
    }
   ],
   "source": [
    "%%time\n",
    "pool = multiprocess.Pool()\n",
    "allphdata = []\n",
    "for fname, inputs in allinputs:\n",
    "            \n",
    "    #get features\n",
    "    phdata = pool.map(getfeatures,inputs)\n",
    "    #filter out empty\n",
    "    phdata = [ex for ex in phdata if ex[2]]\n",
    "    allphdata += phdata\n",
    "    #writeout pickle (into types folder)\n",
    "    outname = fname.replace('.types','_ph.pkl.gz')\n",
    "    with gzip.open(outname,'wb') as out:\n",
    "        pickle.dump(phdata,out)"
   ]
  },
  {
   "cell_type": "code",
   "execution_count": 21,
   "id": "d9fa13df",
   "metadata": {},
   "outputs": [
    {
     "data": {
      "text/plain": [
       "825577"
      ]
     },
     "execution_count": 21,
     "metadata": {},
     "output_type": "execute_result"
    }
   ],
   "source": [
    "sum([len(i[1]) for i in allinputs])"
   ]
  },
  {
   "cell_type": "code",
   "execution_count": 27,
   "id": "bb459361",
   "metadata": {},
   "outputs": [
    {
     "data": {
      "text/plain": [
       "2"
      ]
     },
     "execution_count": 27,
     "metadata": {},
     "output_type": "execute_result"
    }
   ],
   "source": [
    "len(allphdata[0][3][1])"
   ]
  },
  {
   "cell_type": "code",
   "execution_count": 28,
   "id": "98ce43cf",
   "metadata": {},
   "outputs": [],
   "source": [
    "sizes = [len(ph[3][1]) for ph in allphdata]"
   ]
  },
  {
   "cell_type": "code",
   "execution_count": 29,
   "id": "b9e3db20",
   "metadata": {},
   "outputs": [
    {
     "data": {
      "text/plain": [
       "Text(0.5, 0, '# Features')"
      ]
     },
     "execution_count": 29,
     "metadata": {},
     "output_type": "execute_result"
    },
    {
     "data": {
      "image/png": "[encoded data removed]",
      "text/plain": [
       "<Figure size 640x480 with 1 Axes>"
      ]
     },
     "metadata": {},
     "output_type": "display_data"
    }
   ],
   "source": [
    "plt.hist(sizes,bins=range(25))\n",
    "plt.ylabel(\"Count\")\n",
    "plt.xlabel('# Features')"
   ]
  },
  {
   "cell_type": "code",
   "execution_count": 35,
   "id": "d94be35b",
   "metadata": {},
   "outputs": [],
   "source": [
    "features = [ph[3][1] for ph in allphdata ]"
   ]
  },
  {
   "cell_type": "code",
   "execution_count": 37,
   "id": "39155f09",
   "metadata": {},
   "outputs": [],
   "source": [
    "kinds = [f for feat in features for f in feat]"
   ]
  },
  {
   "cell_type": "code",
   "execution_count": 38,
   "id": "f02e437d",
   "metadata": {},
   "outputs": [
    {
     "name": "stderr",
     "output_type": "stream",
     "text": [
      "/tmp/ipykernel_861642/1729506146.py:2: UserWarning: set_ticklabels() should only be used with a fixed number of ticks, i.e. after set_ticks() or using a FixedLocator.\n",
      "  plt.gca().set_xticklabels(['']+index2ph,rotation=90)\n"
     ]
    },
    {
     "data": {
      "text/plain": [
       "Text(0, 0.5, 'Count')"
      ]
     },
     "execution_count": 38,
     "metadata": {},
     "output_type": "execute_result"
    },
    {
     "data": {
      "image/png": "[encoded data removed]",
      "text/plain": [
       "<Figure size 640x480 with 1 Axes>"
      ]
     },
     "metadata": {},
     "output_type": "display_data"
    }
   ],
   "source": [
    "plt.hist(kinds,np.linspace(-0.5,5.5,7))\n",
    "plt.gca().set_xticklabels(['']+index2ph,rotation=90)\n",
    "plt.ylabel(\"Count\")"
   ]
  },
  {
   "cell_type": "code",
   "execution_count": 39,
   "id": "f3fe99b7",
   "metadata": {},
   "outputs": [
    {
     "data": {
      "text/plain": [
       "6357181"
      ]
     },
     "execution_count": 39,
     "metadata": {},
     "output_type": "execute_result"
    }
   ],
   "source": [
    "len(kinds)"
   ]
  },
  {
   "cell_type": "code",
   "execution_count": null,
   "id": "015b8812",
   "metadata": {},
   "outputs": [],
   "source": []
  }
 ],
 "metadata": {
  "kernelspec": {
   "display_name": "Python 3 (ipykernel)",
   "language": "python",
   "name": "python3"
  },
  "language_info": {
   "codemirror_mode": {
    "name": "ipython",
    "version": 3
   },
   "file_extension": ".py",
   "mimetype": "text/x-python",
   "name": "python",
   "nbconvert_exporter": "python",
   "pygments_lexer": "ipython3",
   "version": "3.10.13"
  }
 },
 "nbformat": 4,
 "nbformat_minor": 5
}
