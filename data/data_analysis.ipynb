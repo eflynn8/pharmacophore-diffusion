{
 "cells": [
  {
   "cell_type": "code",
   "execution_count": 1,
   "metadata": {},
   "outputs": [],
   "source": [
    "import pickle\n",
    "import numpy as np"
   ]
  },
  {
   "cell_type": "code",
   "execution_count": 2,
   "metadata": {},
   "outputs": [],
   "source": [
    "data_tar=pickle.load(open('it2_tt_v1.3_0_test0_ph.pkl','rb'))"
   ]
  },
  {
   "cell_type": "code",
   "execution_count": 11,
   "metadata": {},
   "outputs": [
    {
     "name": "stdout",
     "output_type": "stream",
     "text": [
      "['N' 'CA' 'C' 'O' 'CB' 'CG' 'CD1' 'CD2' 'CE1' 'CE2' 'CZ' 'OH' 'N' 'CA' 'C'\n",
      " 'O' 'CB' 'N' 'CA' 'C' 'O' 'CB' 'CG' 'CD1' 'CD2' 'CE1' 'CE2' 'CZ' 'N' 'CA'\n",
      " 'C' 'O' 'CB' 'CG' 'OD1' 'ND2' 'N' 'CA' 'C' 'O' 'CB' 'CG' 'SD' 'CE' 'N'\n",
      " 'CA' 'C' 'O' 'CB' 'CG' 'CD' 'CE' 'NZ' 'N' 'CA' 'C' 'O' 'CB' 'N' 'CA' 'C'\n",
      " 'O' 'CB' 'OG' 'N' 'CA' 'C' 'O' 'CB' 'N' 'CA' 'C' 'O' 'CB' 'CG' 'CD' 'OE1'\n",
      " 'NE2' 'N' 'CA' 'C' 'O' 'CB' 'OG1' 'CG2' 'N' 'CA' 'C' 'O' 'CB' 'CG' 'CD1'\n",
      " 'CD2' 'CE1' 'CE2' 'CZ' 'OH' 'N' 'CA' 'C' 'O' 'CB' 'CG' 'CD' 'OE1' 'OE2'\n",
      " 'N' 'CA' 'C' 'O' 'CB' 'CG' 'OD1' 'ND2' 'N' 'CA' 'C' 'O' 'CB' 'CG' 'CD1'\n",
      " 'CD2' 'N' 'CA' 'C' 'O' 'CB' 'CG1' 'CG2' 'CD1' 'N' 'CA' 'C' 'O' 'CB' 'N'\n",
      " 'CA' 'C' 'O' 'CB' 'CG' 'CD1' 'CD2' 'CE1' 'CE2' 'CZ' 'OH' 'N' 'CA' 'C' 'O'\n",
      " 'CB' 'CG' 'CD1' 'CD2' 'CE1' 'CE2' 'CZ' 'OH' 'N' 'CA' 'C' 'O' 'CB' 'CG1'\n",
      " 'CG2' 'CD1' 'N' 'CA' 'C' 'O' 'CB' 'CG1' 'CG2' 'CD1' 'N' 'CA' 'C' 'O' 'CB'\n",
      " 'CG' 'CD' 'OE1' 'NE2' 'N' 'CA' 'C' 'O' 'CB' 'CG1' 'CG2' 'N' 'CA' 'C' 'O'\n",
      " 'CB' 'CG' 'SD' 'CE' 'N' 'CA' 'C' 'O' 'CB' 'CG' 'CD1' 'CD2' 'CE1' 'CE2'\n",
      " 'CZ' 'OH' 'N' 'CA' 'C' 'O' 'CB' 'CG' 'ND1' 'CD2' 'CE1' 'NE2' 'N' 'CA' 'C'\n",
      " 'O' 'CB' 'CG' 'OD1' 'OD2' 'N' 'CA' 'C' 'O' 'CB' 'CG' 'CD' 'OE1' 'NE2' 'N'\n",
      " 'CA' 'C' 'O' 'CB' 'OG' 'N' 'CA' 'C' 'O' 'CB' 'N' 'CA' 'C' 'O' 'CB' 'CG'\n",
      " 'CD1' 'CD2' 'CE1' 'CE2' 'CZ' 'OH' 'N' 'CA' 'C' 'O' 'CB' 'CG' 'OD1' 'OD2'\n",
      " 'N' 'CA' 'C' 'O' 'CB' 'CG' 'CD' 'CE' 'NZ' 'N' 'CA' 'C' 'O' 'CB' 'CG'\n",
      " 'OD1' 'OD2' 'N' 'CA' 'C' 'O' 'CB' 'CG' 'CD1' 'CD2' 'CE1' 'CE2' 'CZ' 'OH'\n",
      " 'N' 'CA' 'C' 'O' 'CB' 'CG1' 'CG2' 'CD1' 'N' 'CA' 'C' 'O' 'CB' 'N' 'CA'\n",
      " 'C' 'O' 'CB' 'CG' 'CD1' 'CD2' 'N' 'CA' 'C' 'O' 'CB' 'CG' 'CD1' 'CD2'\n",
      " 'NE1' 'CE2' 'CE3' 'CZ2' 'CZ3' 'CH2' 'N' 'CA' 'C' 'O' 'CB' 'OG1' 'CG2' 'N'\n",
      " 'CA' 'C' 'O' 'CB' 'N' 'CA' 'C' 'O' 'CB' 'OG1' 'CG2' 'N' 'CA' 'C' 'O' 'CB'\n",
      " 'CG' 'CD1' 'CD2' 'NE1' 'CE2' 'CE3' 'CZ2' 'CZ3' 'CH2' 'N' 'CA' 'C' 'O'\n",
      " 'CB' 'CG1' 'CG2' 'N' 'CA' 'C' 'O' 'CB' 'CG' 'CD' 'OE1' 'NE2' 'N' 'CA' 'C'\n",
      " 'O' 'CB' 'CG' 'CD1' 'CD2']\n"
     ]
    }
   ],
   "source": [
    "print(data_tar[10][4][2])"
   ]
  }
 ],
 "metadata": {
  "kernelspec": {
   "display_name": "Python 3",
   "language": "python",
   "name": "python3"
  },
  "language_info": {
   "codemirror_mode": {
    "name": "ipython",
    "version": 3
   },
   "file_extension": ".py",
   "mimetype": "text/x-python",
   "name": "python",
   "nbconvert_exporter": "python",
   "pygments_lexer": "ipython3",
   "version": "3.9.15"
  }
 },
 "nbformat": 4,
 "nbformat_minor": 2
}
